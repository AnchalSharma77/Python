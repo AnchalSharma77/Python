{
 "cells": [
  {
   "cell_type": "code",
   "execution_count": 61,
   "metadata": {},
   "outputs": [
    {
     "name": "stdout",
     "output_type": "stream",
     "text": [
      "\n",
      "Say Something or say \"Exit\" to exit\n",
      "*****************************\n",
      "you said\n",
      "\t hello\n",
      "\n",
      "Say Something or say \"Exit\" to exit\n",
      "stopped\n"
     ]
    }
   ],
   "source": [
    "import speech_recognition as sr\n",
    "\n",
    "r= sr.Recognizer()\n",
    "condition=\"true\"\n",
    "    \n",
    "try:\n",
    "    while condition == \"true\" :\n",
    "        with sr.Microphone() as source:\n",
    "            print(\"\\nSay Something or say \\\"Exit\\\" to exit\")\n",
    "            audio=r.listen(source)\n",
    "        text=r.recognize_google(audio)\n",
    "        if text!= \"exit\":\n",
    "            print(\"*****************************\\nyou said\")\n",
    "            print(\"\\t\",text)\n",
    "        else:\n",
    "            print(\"stopped\")\n",
    "            condition=\"false\"\n",
    "except:\n",
    "    print(\"Translation Failed\");"
   ]
  },
  {
   "cell_type": "code",
   "execution_count": 32,
   "metadata": {},
   "outputs": [
    {
     "name": "stdout",
     "output_type": "stream",
     "text": [
      "\n",
      "Say Something or say \"Exit\" to exit\n",
      "*****************************\n",
      "you said\n",
      "\t aaa \n",
      "\n",
      "{'alternative': [{'transcript': 'hello how are you', 'confidence': 0.82965231}, {'transcript': 'hello how r u'}, {'transcript': 'hello how r you'}, {'transcript': 'hello how are u'}, {'transcript': 'hello how are you sir'}], 'final': True}\n"
     ]
    }
   ],
   "source": [
    "import speech_recognition as sr\n",
    "#import os\n",
    "from os import path\n",
    "from pprint import pprint\n",
    "\n",
    "#audio_file=\n",
    "#os.path.join(os.path.dirname(os.path.abspath('__file__')),\"FRIENDS.pcmwav\")\n",
    "\n",
    "r= sr.Recognizer()\n",
    "\n",
    "condition=\"true\"\n",
    "\n",
    "try:\n",
    "    \n",
    "    with sr.Microphone() as source:\n",
    "        print(\"\\nSay Something or say \\\"Exit\\\" to exit\")\n",
    "        audio=r.listen(source)\n",
    "    text=r.recognize_google(audio)\n",
    "    if text!= \"exit\":\n",
    "        print(\"*****************************\\nyou said\")\n",
    "        print(\"\\t\",text,\"\\n\")\n",
    "    else:\n",
    "        print(\"stopped\")\n",
    "        condition=\"false\"\n",
    "    form=\".wav\"\n",
    "    \n",
    "except:\n",
    "    print(\"Translation Failed\");\n",
    "song=text+form\n",
    "with sr.AudioFile(song) as source:\n",
    "    audio=r.record(source)\n",
    "try:\n",
    "    text=r.recognize_google(audio,show_all=True)\n",
    "    print(text)\n",
    "except:\n",
    "    print(\"Didn't work\")\n",
    "        "
   ]
  }
 ],
 "metadata": {
  "kernelspec": {
   "display_name": "Python 3",
   "language": "python",
   "name": "python3"
  },
  "language_info": {
   "codemirror_mode": {
    "name": "ipython",
    "version": 3
   },
   "file_extension": ".py",
   "mimetype": "text/x-python",
   "name": "python",
   "nbconvert_exporter": "python",
   "pygments_lexer": "ipython3",
   "version": "3.7.1"
  }
 },
 "nbformat": 4,
 "nbformat_minor": 2
}
